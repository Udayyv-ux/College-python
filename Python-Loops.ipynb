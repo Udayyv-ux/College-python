{
 "cells": [
  {
   "cell_type": "code",
   "execution_count": 1,
   "id": "921b463f-f324-46e1-84ed-ee2bbd9433cd",
   "metadata": {},
   "outputs": [],
   "source": [
    "#Loops"
   ]
  },
  {
   "cell_type": "code",
   "execution_count": 2,
   "id": "9a15e688-b809-42f7-9610-fb8f1f14a366",
   "metadata": {},
   "outputs": [
    {
     "data": {
      "text/plain": [
       "{2, 5, 10, 12, 32, 53, 55}"
      ]
     },
     "execution_count": 2,
     "metadata": {},
     "output_type": "execute_result"
    }
   ],
   "source": [
    "x={10,12,32,2,55,55,5,53}\n",
    "x"
   ]
  },
  {
   "cell_type": "code",
   "execution_count": 3,
   "id": "d3eebcf0-3f2f-4e77-aa48-78afd0610fa9",
   "metadata": {},
   "outputs": [
    {
     "name": "stdout",
     "output_type": "stream",
     "text": [
      "64\n",
      "i\n",
      "4\n",
      "i\n",
      "10\n",
      "i\n",
      "106\n",
      "i\n",
      "110\n",
      "i\n",
      "20\n",
      "i\n",
      "24\n",
      "i\n"
     ]
    }
   ],
   "source": [
    "for i in x:\n",
    "    print(i*2)\n",
    "    if x==10:\n",
    "        print(\"m\")\n",
    "    else:\n",
    "        print(\"i\")"
   ]
  },
  {
   "cell_type": "code",
   "execution_count": 4,
   "id": "283ebe76-6d5d-40d4-81f1-db148414333b",
   "metadata": {},
   "outputs": [
    {
     "data": {
      "text/plain": [
       "[31, 32, 33, 35, 36, 37, 3, 8, 333, 9933, 399]"
      ]
     },
     "execution_count": 4,
     "metadata": {},
     "output_type": "execute_result"
    }
   ],
   "source": [
    "num=[31,32,33,35,36,37,3,8,333,9933,399]\n",
    "num"
   ]
  },
  {
   "cell_type": "code",
   "execution_count": 20,
   "id": "457a4d6d-e719-4902-9be6-08e69683c752",
   "metadata": {},
   "outputs": [],
   "source": [
    "eve=[]"
   ]
  },
  {
   "cell_type": "code",
   "execution_count": 22,
   "id": "f3c2083d-22e1-42c7-85b6-eeedbb6dd84e",
   "metadata": {},
   "outputs": [],
   "source": [
    "odd=[]"
   ]
  },
  {
   "cell_type": "code",
   "execution_count": 24,
   "id": "9dfb57d7-b80d-4103-a4e0-a920c0108272",
   "metadata": {},
   "outputs": [],
   "source": [
    "for i in num:\n",
    "    if i%2==0:\n",
    "        eve.append(i)\n",
    "    else:\n",
    "        odd.append(i)"
   ]
  },
  {
   "cell_type": "code",
   "execution_count": 26,
   "id": "d4a4a1d2-29b3-4fca-b95d-7958e5a4d4d3",
   "metadata": {},
   "outputs": [
    {
     "data": {
      "text/plain": [
       "[31, 33, 35, 37, 3, 333, 9933, 399]"
      ]
     },
     "execution_count": 26,
     "metadata": {},
     "output_type": "execute_result"
    }
   ],
   "source": [
    "odd"
   ]
  },
  {
   "cell_type": "code",
   "execution_count": 28,
   "id": "f6a5d6bf-db17-41a1-9bf6-e4f699c42231",
   "metadata": {},
   "outputs": [
    {
     "data": {
      "text/plain": [
       "[32, 36, 8]"
      ]
     },
     "execution_count": 28,
     "metadata": {},
     "output_type": "execute_result"
    }
   ],
   "source": [
    "eve"
   ]
  },
  {
   "cell_type": "code",
   "execution_count": 32,
   "id": "9d57e969-4781-4d30-b537-5a513e40915b",
   "metadata": {},
   "outputs": [
    {
     "data": {
      "text/plain": [
       "[39, 45, 66, 93, 90, 78, 67, 87, 89, 93, 25, 59, 49, 91]"
      ]
     },
     "execution_count": 32,
     "metadata": {},
     "output_type": "execute_result"
    }
   ],
   "source": [
    "num=[39,45,66,93,90,78,67,87,89,93,25,59,49,91]\n",
    "num"
   ]
  },
  {
   "cell_type": "code",
   "execution_count": 38,
   "id": "09969996-3e42-4f92-8f25-211ed666a17c",
   "metadata": {},
   "outputs": [],
   "source": [
    "h=[]\n",
    "for i in num:\n",
    "    a=str(i)\n",
    "    b=a.replace('9','1')\n",
    "    c=int(b)\n",
    "    h.append(c)"
   ]
  },
  {
   "cell_type": "code",
   "execution_count": 40,
   "id": "a25f1144-b0e0-4234-b197-142ede119ba7",
   "metadata": {},
   "outputs": [
    {
     "data": {
      "text/plain": [
       "[31, 45, 66, 13, 10, 78, 67, 87, 81, 13, 25, 51, 41, 11]"
      ]
     },
     "execution_count": 40,
     "metadata": {},
     "output_type": "execute_result"
    }
   ],
   "source": [
    "h"
   ]
  },
  {
   "cell_type": "code",
   "execution_count": null,
   "id": "2ba1b9b0-89d8-46f3-b1a8-fccb10baeff6",
   "metadata": {},
   "outputs": [],
   "source": []
  }
 ],
 "metadata": {
  "kernelspec": {
   "display_name": "Python 3 (ipykernel)",
   "language": "python",
   "name": "python3"
  },
  "language_info": {
   "codemirror_mode": {
    "name": "ipython",
    "version": 3
   },
   "file_extension": ".py",
   "mimetype": "text/x-python",
   "name": "python",
   "nbconvert_exporter": "python",
   "pygments_lexer": "ipython3",
   "version": "3.12.4"
  }
 },
 "nbformat": 4,
 "nbformat_minor": 5
}
