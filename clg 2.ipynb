{
 "cells": [
  {
   "cell_type": "code",
   "execution_count": 10,
   "id": "b60140c6-b1fa-40a7-821e-991ceeec8320",
   "metadata": {},
   "outputs": [],
   "source": [
    "#####if condition1:\n",
    "    ###task1 block of code\n",
    "###elif condition2:\n",
    "    ####task2 block of code\n",
    "###elif condition3:\n",
    "    ##task3 block of code\n",
    "####elif condition4:\n",
    "    ###task4 block of code"
   ]
  },
  {
   "cell_type": "code",
   "execution_count": 26,
   "id": "871d7f94-ac50-4a84-a177-1225048ae119",
   "metadata": {},
   "outputs": [
    {
     "name": "stdin",
     "output_type": "stream",
     "text": [
      "enter a element:  9999\n"
     ]
    },
    {
     "name": "stdout",
     "output_type": "stream",
     "text": [
      "odd\n"
     ]
    }
   ],
   "source": [
    "x=float(input('enter a element: '))\n",
    "if x%2==0:\n",
    "    print(\"even\")\n",
    "else :\n",
    "    print(\"odd\")"
   ]
  },
  {
   "cell_type": "code",
   "execution_count": 28,
   "id": "77288cea-1a35-4192-bec2-a75307f5056c",
   "metadata": {},
   "outputs": [
    {
     "data": {
      "text/plain": [
       "True"
      ]
     },
     "execution_count": 28,
     "metadata": {},
     "output_type": "execute_result"
    }
   ],
   "source": [
    "x>4"
   ]
  },
  {
   "cell_type": "code",
   "execution_count": 30,
   "id": "d3e25ae0-d0be-41a9-befa-04eed8853a83",
   "metadata": {},
   "outputs": [
    {
     "data": {
      "text/plain": [
       "False"
      ]
     },
     "execution_count": 30,
     "metadata": {},
     "output_type": "execute_result"
    }
   ],
   "source": [
    "x<2"
   ]
  },
  {
   "cell_type": "code",
   "execution_count": 32,
   "id": "a1c69c77-79b1-4193-bc88-0da0f85e9d71",
   "metadata": {},
   "outputs": [
    {
     "data": {
      "text/plain": [
       "False"
      ]
     },
     "execution_count": 32,
     "metadata": {},
     "output_type": "execute_result"
    }
   ],
   "source": [
    "x%2==0"
   ]
  },
  {
   "cell_type": "code",
   "execution_count": 72,
   "id": "c845603c-51c3-43be-ac23-1ba9827f34bd",
   "metadata": {},
   "outputs": [
    {
     "name": "stdin",
     "output_type": "stream",
     "text": [
      "Enter a  element:  -3\n"
     ]
    },
    {
     "name": "stdout",
     "output_type": "stream",
     "text": [
      "neagtive\n"
     ]
    }
   ],
   "source": [
    "x=float(input('Enter a  element: '))\n",
    "if x>0:\n",
    "    print('pos')\n",
    "    if x>20:\n",
    "        print('Greater than 20')\n",
    "    elif x>10:\n",
    "        print('greater than 10')\n",
    "    elif x >30:\n",
    "        print(\"greater than 30\")\n",
    "elif x<0:\n",
    "    print('neagtive')\n",
    "    if x<-20:\n",
    "        print(\"i\")\n",
    "    elif x<-10:\n",
    "        print(\"v\")\n"
   ]
  },
  {
   "cell_type": "code",
   "execution_count": 96,
   "id": "db7d6152-95dc-498a-b84b-08fcf8d2edfc",
   "metadata": {},
   "outputs": [],
   "source": [
    "x='telengana'\n",
    "x='Tiger'\n",
    "x='tan'\n",
    "x=\"lion\"\n",
    "x='Mumbai'"
   ]
  },
  {
   "cell_type": "code",
   "execution_count": 98,
   "id": "1155ffbe-fb92-4e95-bc74-4eb7077ca6f6",
   "metadata": {},
   "outputs": [
    {
     "name": "stdout",
     "output_type": "stream",
     "text": [
      "Yes\n"
     ]
    }
   ],
   "source": [
    "x='tiger'\n",
    "if x[0]==\"t\" or x[0]==\"T\":\n",
    "    print(\"Yes\")\n",
    "else:\n",
    "    print(\"No\")"
   ]
  },
  {
   "cell_type": "code",
   "execution_count": 115,
   "id": "9cb1c2a2-5d57-4fb7-aa96-eb2c9a52d488",
   "metadata": {},
   "outputs": [
    {
     "name": "stdout",
     "output_type": "stream",
     "text": [
      "caps\n"
     ]
    }
   ],
   "source": [
    "x='Mumbai'\n",
    "if x[0]==\"M\" or x[0]==\"l\":\n",
    "    print(\"caps\")\n",
    "else:\n",
    "    print(\"v\")"
   ]
  },
  {
   "cell_type": "code",
   "execution_count": 165,
   "id": "38ec27e7-399f-4e6a-bc74-630ce83b838a",
   "metadata": {},
   "outputs": [
    {
     "name": "stdin",
     "output_type": "stream",
     "text": [
      "Enter a element:  m\n"
     ]
    },
    {
     "name": "stdout",
     "output_type": "stream",
     "text": [
      "No\n"
     ]
    }
   ],
   "source": [
    "x=str(input(\"Enter a element: \"))\n",
    "x.lower()\n",
    "if x[0]==\"M\":\n",
    "    print(\"Starts with M\")\n",
    "elif x[0]==\"t\":\n",
    "    print(\"Starts with T\")\n",
    "else:\n",
    "    print(\"No\")\n",
    "    \n"
   ]
  },
  {
   "cell_type": "code",
   "execution_count": null,
   "id": "e0eac3cd-6a4c-4798-8023-1d8421be6b8f",
   "metadata": {},
   "outputs": [],
   "source": []
  }
 ],
 "metadata": {
  "kernelspec": {
   "display_name": "Python 3 (ipykernel)",
   "language": "python",
   "name": "python3"
  },
  "language_info": {
   "codemirror_mode": {
    "name": "ipython",
    "version": 3
   },
   "file_extension": ".py",
   "mimetype": "text/x-python",
   "name": "python",
   "nbconvert_exporter": "python",
   "pygments_lexer": "ipython3",
   "version": "3.12.4"
  }
 },
 "nbformat": 4,
 "nbformat_minor": 5
}
